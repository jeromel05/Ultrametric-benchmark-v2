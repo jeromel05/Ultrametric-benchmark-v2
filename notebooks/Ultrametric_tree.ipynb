{
 "cells": [
  {
   "cell_type": "code",
   "execution_count": 1,
   "id": "3ba8185e-39da-45ae-bed5-3613064bbc46",
   "metadata": {},
   "outputs": [
    {
     "name": "stdout",
     "output_type": "stream",
     "text": [
      "3000\n",
      "400\n"
     ]
    }
   ],
   "source": [
    "import numpy as np\n",
    "from scipy import signal\n",
    "import matplotlib.pyplot as plt\n"
   ]
  },
  {
   "cell_type": "code",
   "execution_count": 2,
   "id": "692084d4-a09b-4ab7-8f1d-0fcecc219a1d",
   "metadata": {},
   "outputs": [
    {
     "data": {
      "image/png": "[encoded data removed]",
      "text/plain": [
       "<Figure size 432x288 with 1 Axes>"
      ]
     },
     "metadata": {
      "needs_background": "light"
     },
     "output_type": "display_data"
    }
   ],
   "source": [
    "seq1 = \"112121212323232323234232234544545455765656565545344343565656565656565657676676767687878788776565664\"\n",
    "seq1 = [int(x) for x in seq1]\n",
    "\n",
    "seq2 = \"121221221212121221212122222111121222122212212121234434343344434333344443434343434343434343434343565656565656565656565665655555555555656656565\"\n",
    "seq2 = [int(x) for x in seq2]\n",
    "\n",
    "plt.plot(signal.correlate(seq1, seq1, mode='full', method='auto'), label=\"natural\")\n",
    "plt.plot(signal.correlate(seq2, seq2, mode='full', method='auto'), label=\"split\")\n",
    "plt.legend()\n",
    "plt.show()"
   ]
  },
  {
   "cell_type": "markdown",
   "id": "3f22ff5f-e120-4f50-bb99-7b0fb07d7477",
   "metadata": {},
   "source": [
    "# Ultrametric tree"
   ]
  },
  {
   "cell_type": "code",
   "execution_count": 59,
   "id": "1cf15df0-a7f9-4d52-a937-d092e828942d",
   "metadata": {
    "tags": []
   },
   "outputs": [],
   "source": [
    "# fixed values\n",
    "L_const = 8\n",
    "# j_range = 0,1,...,2**(L-1)-1 = 2^7-1 = 127\n",
    "# l_range = 2,3,...,L = 8\n",
    "\n",
    "# initial__local_state j + 1 + 2*sign(entier(j/2) - j/2)\n",
    "# final_state j\n",
    "\n",
    "# dim of R_l, P_l, id_l is (2^l * 2^l)\n",
    "\n",
    "def R_mat(j,l):\n",
    "    res = [[R_mat(2*j, l-1) - r(2*j+1, l) + np.identity(l-1), r(2*j+1, l)*P_mat(2*j+1,l-1)],\n",
    "           [r(2*j, l)*P(2*j, l-1),R_mat(2*j+1, l-1) - r(2*j, l)*np.identity(l-1)]]\n",
    "    print(\"R_mat_out: \", res)\n",
    "    return res\n",
    "\n",
    "#R_start\n",
    "def R_mat_1(j):\n",
    "    res = [[-r(2*j+1, 1), r(2*j+1, l)],\n",
    "            [r(2*j, l), -r(2*j, l)]]\n",
    "    print(\"R_mat_1_out: \", res)\n",
    "    return res\n",
    "\n",
    "def P_mat(j, l):\n",
    "    res = np.transpose([p0(j, l).T] * 2**l)\n",
    "    print(\"P_mat_out: \", res)\n",
    "    return res\n",
    "    \n",
    "def p0(j, l):\n",
    "    #print(\"l: \", l)\n",
    "    if l == 1:\n",
    "        res = [p(2*j, 1), p(2*j+1, 1)]\n",
    "    else:\n",
    "        res = [p(2*j, l)*p0(2*j, l-1), p(2*j+1, l)*p0(2*j, l-1)]\n",
    "    \n",
    "    res = np.array(res).flatten()\n",
    "    #print(\"p0_out: \", res)\n",
    "    return res\n",
    "\n",
    "def p(j_times_2, l):\n",
    "    if j_times_2 % 2:\n",
    "        res = 1 - p(j_times_2-1, l)\n",
    "    else:\n",
    "        res = r(j_times_2, l) / (r(j_times_2, l) + r(j_times_2+1, l))\n",
    "    \n",
    "    #print(\"p_out: \", res)\n",
    "    return res\n",
    "\n",
    "def r(j, l):\n",
    "    return 0.5\n",
    "    #return 1/(j+L_const-l+1e-5)\n",
    "                                                        "
   ]
  },
  {
   "cell_type": "code",
   "execution_count": 60,
   "id": "a0d353f8-eadf-4a56-b664-d8f8dc3a9dea",
   "metadata": {},
   "outputs": [],
   "source": [
    "# Utils (optional)\n",
    "\n",
    "#entier is largest int contained in cluster x\n",
    "def entier(x):\n",
    "    return np.max(x)"
   ]
  },
  {
   "cell_type": "code",
   "execution_count": 61,
   "id": "21149e51-a509-4763-8459-418c1a2b75c1",
   "metadata": {},
   "outputs": [],
   "source": [
    "# Questions\n",
    "## 1) Define r = 1/L ??\n"
   ]
  },
  {
   "cell_type": "code",
   "execution_count": 62,
   "id": "ed4a2e55-a7ee-4250-aeee-4173c3db36a3",
   "metadata": {},
   "outputs": [],
   "source": [
    "# Solution\n",
    "## Conditional proba of being at state n after time t\n",
    "def c0(n, t):\n",
    "    res = np.sum([c_0(l, n)*np.exp(t*R_eval(l,0)) for l in range(2, L_const+1)])\n",
    "    print(\"c0_proba_out: \", res)\n",
    "    return res\n",
    "\n",
    "def c_0(l, n):\n",
    "    print(\"l_inter: \", l)\n",
    "    #equ: c^l_0,n = (~p^L_l,0)_0 * (p^L_l,0)_n\n",
    "    #res = np.ones(L_const)*p(l,0)\n",
    "    #def p(L,j,l): return [np.zeros((l-1, int(l/2)-1)), p(2*j, l-1), p(2*j+1, l-1), np.zeros((l-1, int(l/2)-1))]\n",
    "    def p_T(j,l): \n",
    "        middle_block = np.concatenate((-p(2*j+1, l)*np.ones(2**(l-1)), p(2*j, l)*np.ones(2**(l-1))), axis=0)\n",
    "        right_zeros = np.tile(np.zeros(2**(l-1)), max(2**(L_const-l-1)-2*j-3, 0))\n",
    "        res = np.concatenate((middle_block, right_zeros), axis=0)\n",
    "        \n",
    "        if j > 0:\n",
    "            left_zeros = np.tile(np.zeros(2**(l-1)), max(2*j-1, 0))\n",
    "            res = np.concatenate((left_zeros, res), axis=0)\n",
    "\n",
    "        return res # 1D array\n",
    "    \n",
    "    p_T_0_0 = p0(0, L_const)\n",
    "    print('p_T_0_0 ', p_T_0_0.shape)\n",
    "    print('p_T(0,L_const) ', p_T(0,L_const).shape)\n",
    "    D_mat = np.array([p_T_0_0, p_T(0,L_const)])\n",
    "    for j in range(1, 2**(L_const-1)-1):\n",
    "        l=1\n",
    "        #for l in range(1, L_const-1):  # doing this for loop does not yield the correct dimensions ? \n",
    "        print(p_T(j-1,L_const-l).shape, p_T(j,L_const-l).shape)\n",
    "        addition_2 = np.stack((p_T(j-1,L_const-l), p_T(j,L_const-l)))\n",
    "        print(\"aaa \", addition_2.shape, \"  \", D_mat.shape)\n",
    "        print(\"bbb \", addition_2)\n",
    "        D_mat = np.concatenate((D_mat, addition_2), axis=0)\n",
    "            \n",
    "    print(\"D_mat: \", D_mat.shape)\n",
    "    D_inv = np.linalg.inv(D_mat)\n",
    "        \n",
    "    #res = p0_tilde(0, l)[0] * p0(0, l)[n-1] \n",
    "    res = D_inv[L_const-l][0] * D_mat[L_const-l][n-1]\n",
    "    print(\"p0_res_size: \", res.shape, res)\n",
    "    print(\"n-1\", n-1)\n",
    "    print(\"c_0_out: \", res)\n",
    "    return res\n",
    "\n",
    "def R_eval(j, l):\n",
    "    if l == j == 0:\n",
    "        res = 0\n",
    "    elif l == L_const and j == 0:\n",
    "        res = -r(0, L_const) - r(1, L_const)\n",
    "    else:\n",
    "        res = -r(2*j, l) - r(2*j+1, l) - np.sum(\n",
    "            [r(int(j/(2**(l_prime-l-1))), l_prime) for l_prime in range(l+1, L_const+1)])\n",
    "        \n",
    "    print(\"R_eval_out: \", res)\n",
    "    return res\n",
    "    "
   ]
  },
  {
   "cell_type": "code",
   "execution_count": null,
   "id": "8ae20d12-b682-4d16-83b9-50b95bcc5e34",
   "metadata": {},
   "outputs": [],
   "source": []
  },
  {
   "cell_type": "code",
   "execution_count": 63,
   "id": "73c6d92c-36bf-4867-a27e-a44ac5c4173b",
   "metadata": {},
   "outputs": [
    {
     "name": "stdout",
     "output_type": "stream",
     "text": [
      "l_inter:  2\n",
      "p_T_0_0  (256,)\n",
      "p_T(0,L_const)  (256,)\n",
      "(128,) (192,)\n"
     ]
    },
    {
     "ename": "ValueError",
     "evalue": "all input arrays must have the same shape",
     "output_type": "error",
     "traceback": [
      "\u001b[0;31m---------------------------------------------------------------------------\u001b[0m",
      "\u001b[0;31mValueError\u001b[0m                                Traceback (most recent call last)",
      "\u001b[0;32m/var/folders/ss/j6g44bws7kj9ghsjl9l3bxlw0000gn/T/ipykernel_86837/1121639450.py\u001b[0m in \u001b[0;36m<module>\u001b[0;34m\u001b[0m\n\u001b[0;32m----> 1\u001b[0;31m \u001b[0mc0\u001b[0m\u001b[0;34m(\u001b[0m\u001b[0;36m3\u001b[0m\u001b[0;34m,\u001b[0m\u001b[0;36m1\u001b[0m\u001b[0;34m)\u001b[0m\u001b[0;34m\u001b[0m\u001b[0;34m\u001b[0m\u001b[0m\n\u001b[0m",
      "\u001b[0;32m/var/folders/ss/j6g44bws7kj9ghsjl9l3bxlw0000gn/T/ipykernel_86837/2460346887.py\u001b[0m in \u001b[0;36mc0\u001b[0;34m(n, t)\u001b[0m\n\u001b[1;32m      2\u001b[0m \u001b[0;31m## Conditional proba of being at state n after time t\u001b[0m\u001b[0;34m\u001b[0m\u001b[0;34m\u001b[0m\u001b[0;34m\u001b[0m\u001b[0m\n\u001b[1;32m      3\u001b[0m \u001b[0;32mdef\u001b[0m \u001b[0mc0\u001b[0m\u001b[0;34m(\u001b[0m\u001b[0mn\u001b[0m\u001b[0;34m,\u001b[0m \u001b[0mt\u001b[0m\u001b[0;34m)\u001b[0m\u001b[0;34m:\u001b[0m\u001b[0;34m\u001b[0m\u001b[0;34m\u001b[0m\u001b[0m\n\u001b[0;32m----> 4\u001b[0;31m     \u001b[0mres\u001b[0m \u001b[0;34m=\u001b[0m \u001b[0mnp\u001b[0m\u001b[0;34m.\u001b[0m\u001b[0msum\u001b[0m\u001b[0;34m(\u001b[0m\u001b[0;34m[\u001b[0m\u001b[0mc_0\u001b[0m\u001b[0;34m(\u001b[0m\u001b[0ml\u001b[0m\u001b[0;34m,\u001b[0m \u001b[0mn\u001b[0m\u001b[0;34m)\u001b[0m\u001b[0;34m*\u001b[0m\u001b[0mnp\u001b[0m\u001b[0;34m.\u001b[0m\u001b[0mexp\u001b[0m\u001b[0;34m(\u001b[0m\u001b[0mt\u001b[0m\u001b[0;34m*\u001b[0m\u001b[0mR_eval\u001b[0m\u001b[0;34m(\u001b[0m\u001b[0ml\u001b[0m\u001b[0;34m,\u001b[0m\u001b[0;36m0\u001b[0m\u001b[0;34m)\u001b[0m\u001b[0;34m)\u001b[0m \u001b[0;32mfor\u001b[0m \u001b[0ml\u001b[0m \u001b[0;32min\u001b[0m \u001b[0mrange\u001b[0m\u001b[0;34m(\u001b[0m\u001b[0;36m2\u001b[0m\u001b[0;34m,\u001b[0m \u001b[0mL_const\u001b[0m\u001b[0;34m+\u001b[0m\u001b[0;36m1\u001b[0m\u001b[0;34m)\u001b[0m\u001b[0;34m]\u001b[0m\u001b[0;34m)\u001b[0m\u001b[0;34m\u001b[0m\u001b[0;34m\u001b[0m\u001b[0m\n\u001b[0m\u001b[1;32m      5\u001b[0m     \u001b[0mprint\u001b[0m\u001b[0;34m(\u001b[0m\u001b[0;34m\"c0_proba_out: \"\u001b[0m\u001b[0;34m,\u001b[0m \u001b[0mres\u001b[0m\u001b[0;34m)\u001b[0m\u001b[0;34m\u001b[0m\u001b[0;34m\u001b[0m\u001b[0m\n\u001b[1;32m      6\u001b[0m     \u001b[0;32mreturn\u001b[0m \u001b[0mres\u001b[0m\u001b[0;34m\u001b[0m\u001b[0;34m\u001b[0m\u001b[0m\n",
      "\u001b[0;32m/var/folders/ss/j6g44bws7kj9ghsjl9l3bxlw0000gn/T/ipykernel_86837/2460346887.py\u001b[0m in \u001b[0;36m<listcomp>\u001b[0;34m(.0)\u001b[0m\n\u001b[1;32m      2\u001b[0m \u001b[0;31m## Conditional proba of being at state n after time t\u001b[0m\u001b[0;34m\u001b[0m\u001b[0;34m\u001b[0m\u001b[0;34m\u001b[0m\u001b[0m\n\u001b[1;32m      3\u001b[0m \u001b[0;32mdef\u001b[0m \u001b[0mc0\u001b[0m\u001b[0;34m(\u001b[0m\u001b[0mn\u001b[0m\u001b[0;34m,\u001b[0m \u001b[0mt\u001b[0m\u001b[0;34m)\u001b[0m\u001b[0;34m:\u001b[0m\u001b[0;34m\u001b[0m\u001b[0;34m\u001b[0m\u001b[0m\n\u001b[0;32m----> 4\u001b[0;31m     \u001b[0mres\u001b[0m \u001b[0;34m=\u001b[0m \u001b[0mnp\u001b[0m\u001b[0;34m.\u001b[0m\u001b[0msum\u001b[0m\u001b[0;34m(\u001b[0m\u001b[0;34m[\u001b[0m\u001b[0mc_0\u001b[0m\u001b[0;34m(\u001b[0m\u001b[0ml\u001b[0m\u001b[0;34m,\u001b[0m \u001b[0mn\u001b[0m\u001b[0;34m)\u001b[0m\u001b[0;34m*\u001b[0m\u001b[0mnp\u001b[0m\u001b[0;34m.\u001b[0m\u001b[0mexp\u001b[0m\u001b[0;34m(\u001b[0m\u001b[0mt\u001b[0m\u001b[0;34m*\u001b[0m\u001b[0mR_eval\u001b[0m\u001b[0;34m(\u001b[0m\u001b[0ml\u001b[0m\u001b[0;34m,\u001b[0m\u001b[0;36m0\u001b[0m\u001b[0;34m)\u001b[0m\u001b[0;34m)\u001b[0m \u001b[0;32mfor\u001b[0m \u001b[0ml\u001b[0m \u001b[0;32min\u001b[0m \u001b[0mrange\u001b[0m\u001b[0;34m(\u001b[0m\u001b[0;36m2\u001b[0m\u001b[0;34m,\u001b[0m \u001b[0mL_const\u001b[0m\u001b[0;34m+\u001b[0m\u001b[0;36m1\u001b[0m\u001b[0;34m)\u001b[0m\u001b[0;34m]\u001b[0m\u001b[0;34m)\u001b[0m\u001b[0;34m\u001b[0m\u001b[0;34m\u001b[0m\u001b[0m\n\u001b[0m\u001b[1;32m      5\u001b[0m     \u001b[0mprint\u001b[0m\u001b[0;34m(\u001b[0m\u001b[0;34m\"c0_proba_out: \"\u001b[0m\u001b[0;34m,\u001b[0m \u001b[0mres\u001b[0m\u001b[0;34m)\u001b[0m\u001b[0;34m\u001b[0m\u001b[0;34m\u001b[0m\u001b[0m\n\u001b[1;32m      6\u001b[0m     \u001b[0;32mreturn\u001b[0m \u001b[0mres\u001b[0m\u001b[0;34m\u001b[0m\u001b[0;34m\u001b[0m\u001b[0m\n",
      "\u001b[0;32m/var/folders/ss/j6g44bws7kj9ghsjl9l3bxlw0000gn/T/ipykernel_86837/2460346887.py\u001b[0m in \u001b[0;36mc_0\u001b[0;34m(l, n)\u001b[0m\n\u001b[1;32m     30\u001b[0m         \u001b[0;31m#for l in range(1, L_const-1):  # doing this for loop does not yield the correct dimensions ?\u001b[0m\u001b[0;34m\u001b[0m\u001b[0;34m\u001b[0m\u001b[0;34m\u001b[0m\u001b[0m\n\u001b[1;32m     31\u001b[0m         \u001b[0mprint\u001b[0m\u001b[0;34m(\u001b[0m\u001b[0mp_T\u001b[0m\u001b[0;34m(\u001b[0m\u001b[0mj\u001b[0m\u001b[0;34m-\u001b[0m\u001b[0;36m1\u001b[0m\u001b[0;34m,\u001b[0m\u001b[0mL_const\u001b[0m\u001b[0;34m-\u001b[0m\u001b[0ml\u001b[0m\u001b[0;34m)\u001b[0m\u001b[0;34m.\u001b[0m\u001b[0mshape\u001b[0m\u001b[0;34m,\u001b[0m \u001b[0mp_T\u001b[0m\u001b[0;34m(\u001b[0m\u001b[0mj\u001b[0m\u001b[0;34m,\u001b[0m\u001b[0mL_const\u001b[0m\u001b[0;34m-\u001b[0m\u001b[0ml\u001b[0m\u001b[0;34m)\u001b[0m\u001b[0;34m.\u001b[0m\u001b[0mshape\u001b[0m\u001b[0;34m)\u001b[0m\u001b[0;34m\u001b[0m\u001b[0;34m\u001b[0m\u001b[0m\n\u001b[0;32m---> 32\u001b[0;31m         \u001b[0maddition_2\u001b[0m \u001b[0;34m=\u001b[0m \u001b[0mnp\u001b[0m\u001b[0;34m.\u001b[0m\u001b[0mstack\u001b[0m\u001b[0;34m(\u001b[0m\u001b[0;34m(\u001b[0m\u001b[0mp_T\u001b[0m\u001b[0;34m(\u001b[0m\u001b[0mj\u001b[0m\u001b[0;34m-\u001b[0m\u001b[0;36m1\u001b[0m\u001b[0;34m,\u001b[0m\u001b[0mL_const\u001b[0m\u001b[0;34m-\u001b[0m\u001b[0ml\u001b[0m\u001b[0;34m)\u001b[0m\u001b[0;34m,\u001b[0m \u001b[0mp_T\u001b[0m\u001b[0;34m(\u001b[0m\u001b[0mj\u001b[0m\u001b[0;34m,\u001b[0m\u001b[0mL_const\u001b[0m\u001b[0;34m-\u001b[0m\u001b[0ml\u001b[0m\u001b[0;34m)\u001b[0m\u001b[0;34m)\u001b[0m\u001b[0;34m)\u001b[0m\u001b[0;34m\u001b[0m\u001b[0;34m\u001b[0m\u001b[0m\n\u001b[0m\u001b[1;32m     33\u001b[0m         \u001b[0mprint\u001b[0m\u001b[0;34m(\u001b[0m\u001b[0;34m\"aaa \"\u001b[0m\u001b[0;34m,\u001b[0m \u001b[0maddition_2\u001b[0m\u001b[0;34m.\u001b[0m\u001b[0mshape\u001b[0m\u001b[0;34m,\u001b[0m \u001b[0;34m\"  \"\u001b[0m\u001b[0;34m,\u001b[0m \u001b[0mD_mat\u001b[0m\u001b[0;34m.\u001b[0m\u001b[0mshape\u001b[0m\u001b[0;34m)\u001b[0m\u001b[0;34m\u001b[0m\u001b[0;34m\u001b[0m\u001b[0m\n\u001b[1;32m     34\u001b[0m         \u001b[0mprint\u001b[0m\u001b[0;34m(\u001b[0m\u001b[0;34m\"bbb \"\u001b[0m\u001b[0;34m,\u001b[0m \u001b[0maddition_2\u001b[0m\u001b[0;34m)\u001b[0m\u001b[0;34m\u001b[0m\u001b[0;34m\u001b[0m\u001b[0m\n",
      "\u001b[0;32m<__array_function__ internals>\u001b[0m in \u001b[0;36mstack\u001b[0;34m(*args, **kwargs)\u001b[0m\n",
      "\u001b[0;32m~/opt/anaconda3/lib/python3.8/site-packages/numpy/core/shape_base.py\u001b[0m in \u001b[0;36mstack\u001b[0;34m(arrays, axis, out)\u001b[0m\n\u001b[1;32m    425\u001b[0m     \u001b[0mshapes\u001b[0m \u001b[0;34m=\u001b[0m \u001b[0;34m{\u001b[0m\u001b[0marr\u001b[0m\u001b[0;34m.\u001b[0m\u001b[0mshape\u001b[0m \u001b[0;32mfor\u001b[0m \u001b[0marr\u001b[0m \u001b[0;32min\u001b[0m \u001b[0marrays\u001b[0m\u001b[0;34m}\u001b[0m\u001b[0;34m\u001b[0m\u001b[0;34m\u001b[0m\u001b[0m\n\u001b[1;32m    426\u001b[0m     \u001b[0;32mif\u001b[0m \u001b[0mlen\u001b[0m\u001b[0;34m(\u001b[0m\u001b[0mshapes\u001b[0m\u001b[0;34m)\u001b[0m \u001b[0;34m!=\u001b[0m \u001b[0;36m1\u001b[0m\u001b[0;34m:\u001b[0m\u001b[0;34m\u001b[0m\u001b[0;34m\u001b[0m\u001b[0m\n\u001b[0;32m--> 427\u001b[0;31m         \u001b[0;32mraise\u001b[0m \u001b[0mValueError\u001b[0m\u001b[0;34m(\u001b[0m\u001b[0;34m'all input arrays must have the same shape'\u001b[0m\u001b[0;34m)\u001b[0m\u001b[0;34m\u001b[0m\u001b[0;34m\u001b[0m\u001b[0m\n\u001b[0m\u001b[1;32m    428\u001b[0m \u001b[0;34m\u001b[0m\u001b[0m\n\u001b[1;32m    429\u001b[0m     \u001b[0mresult_ndim\u001b[0m \u001b[0;34m=\u001b[0m \u001b[0marrays\u001b[0m\u001b[0;34m[\u001b[0m\u001b[0;36m0\u001b[0m\u001b[0;34m]\u001b[0m\u001b[0;34m.\u001b[0m\u001b[0mndim\u001b[0m \u001b[0;34m+\u001b[0m \u001b[0;36m1\u001b[0m\u001b[0;34m\u001b[0m\u001b[0;34m\u001b[0m\u001b[0m\n",
      "\u001b[0;31mValueError\u001b[0m: all input arrays must have the same shape"
     ]
    }
   ],
   "source": [
    "c0(3,1)"
   ]
  },
  {
   "cell_type": "code",
   "execution_count": null,
   "id": "84a8499d-6096-48f2-b88f-ca1b3f293e4e",
   "metadata": {},
   "outputs": [],
   "source": []
  },
  {
   "cell_type": "markdown",
   "id": "6163c603-03fa-4b43-ac66-f1318060fd5d",
   "metadata": {},
   "source": [
    "## Markov matrix"
   ]
  },
  {
   "cell_type": "code",
   "execution_count": null,
   "id": "8dc57056-6583-4cf1-a939-986a61110a5b",
   "metadata": {},
   "outputs": [],
   "source": []
  },
  {
   "cell_type": "code",
   "execution_count": null,
   "id": "d91e5cfb-999d-4fad-acd1-7258a4220d26",
   "metadata": {},
   "outputs": [],
   "source": []
  },
  {
   "cell_type": "code",
   "execution_count": null,
   "id": "524ca03e-18be-46ed-9e77-c19520c8ab1a",
   "metadata": {},
   "outputs": [],
   "source": []
  }
 ],
 "metadata": {
  "kernelspec": {
   "display_name": "Python 3 (ipykernel)",
   "language": "python",
   "name": "python3"
  },
  "language_info": {
   "codemirror_mode": {
    "name": "ipython",
    "version": 3
   },
   "file_extension": ".py",
   "mimetype": "text/x-python",
   "name": "python",
   "nbconvert_exporter": "python",
   "pygments_lexer": "ipython3",
   "version": "3.8.12"
  }
 },
 "nbformat": 4,
 "nbformat_minor": 5
}
